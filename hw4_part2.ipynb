{
 "cells": [
  {
   "cell_type": "markdown",
   "metadata": {},
   "source": [
    "# CSE 482: Big Data Analysis (Spring 2020) Homework 4 Part 2\n",
    "\n",
    "Due date: Sunday, April 5, 2020 (before midnight US Eastern Time)\n",
    "\n",
    "Submit your homework using the D2L system. Use the notebook below to write the solution of your homework. Make sure you submit the notebook along with its HTML version."
   ]
  },
  {
   "cell_type": "raw",
   "metadata": {},
   "source": []
  },
  {
   "cell_type": "markdown",
   "metadata": {},
   "source": [
    "**1.** For this question, you need to write the code for a variation of k-means clustering algorithm known as bisecting k-means. The algorithm works as follows. Suppose you want to create 4 clusters. The algorithm will first apply standard k-means algorithm to bisect the entire data into 2 clusters, say, C1 and C2. It then computes the sum-of-squared error (SSE) of each cluster and choose the cluster with higher SSE to be further partitioned into 2 smaller clusters. For example, if cluster C1 has larger SSE than C2, the algorithm will apply standard k-means to all the data points in cluster C1 and divide the cluster into 2 smaller clusters, say, C1a and C1b. At this time, you have 3 clusters: C1a, C1b, and C2. Next, you will compare the SSE of the 3 clusters and choose the one with highest SSE. You will bisect the cluster with highest SSE into 2 smaller clusters, thereby creating the 4 clusters needed. You may review the example given in the attached slides, bisecting.pptx or bisecting.pdf.\n",
    "\n",
    "**(a)** Download the 2-dimensional dataset *2d_data.csv* from D2L and load it into a pandas DataFrame object named *data*. Assign the names of its two columns as 'x1' and 'x2', respectively. Display the first 5 rows of the dataframe and draw a 2-dimensional scatter plot of the data points. "
   ]
  },
  {
   "cell_type": "code",
   "execution_count": 11,
   "metadata": {},
   "outputs": [
    {
     "data": {
      "text/plain": [
       "<matplotlib.collections.PathCollection at 0x20f50b68978>"
      ]
     },
     "execution_count": 11,
     "metadata": {},
     "output_type": "execute_result"
    },
    {
     "data": {
      "image/png": "[encoded data removed]",
      "text/plain": [
       "<Figure size 432x288 with 1 Axes>"
      ]
     },
     "metadata": {
      "needs_background": "light"
     },
     "output_type": "display_data"
    }
   ],
   "source": [
    "import pandas as pd\n",
    "import matplotlib.pyplot as plt\n",
    "name=['x1','x2']\n",
    "#matplotlib inline\n",
    "data = pd.read_csv('2d_data2.csv',encoding='utf-8',header=None,names=[name[i] for i in range(2)])\n",
    "data.head(5)\n",
    "plt.scatter(data.iloc[:,0],data.iloc[:,1])"
   ]
  },
  {
   "cell_type": "markdown",
   "metadata": {},
   "source": [
    "**(b)** Write the function bisect() that takes three input arguments: data to be clustered, k (number of clusters), and seed (for random number generator). The function should return the cluster labels as output. To ensure your code is correct, you should maintain a list of sum-square-error (SSE) of the clusters and display the SSE list at each iteration. As the cluster is bisected into 2 smaller clusters, the number of elements in the SSE list should increase by 1. The process continues until there are k elements in the SSE list.     "
   ]
  },
  {
   "cell_type": "code",
   "execution_count": 4,
   "metadata": {},
   "outputs": [],
   "source": [
    "from sklearn.cluster import KMeans \n",
    "import numpy as np\n",
    "import math\n",
    "import warnings\n",
    "warnings.filterwarnings(\"ignore\")\n",
    "\n",
    "#Calculate list to add elements multiple times\n",
    "def fun1(list1,v,n):\n",
    "    i=0\n",
    "    while i<n:\n",
    "        list1.append(v)\n",
    "        i=i+1\n",
    "    return list1\n",
    "#Dictionary sorting to get tags\n",
    "def fun2(list2):\n",
    "    values = []\n",
    "    y = []\n",
    "    for i in range(len(list2)):\n",
    "        values=fun1(values,i,len(list2[i]))\n",
    "    keys=[n for a in list2 for n in a ]\n",
    "    dic=dict(zip(keys,values))\n",
    "    for i in sorted (dic) :\n",
    "            y.append(dic[i])\n",
    "    return y\n",
    "\n",
    "def bisect(data, k, seed = 1):\n",
    "    init_coor=[np.mean(data.iloc[:,0]),np.mean(data.iloc[:,1])]\n",
    "    SSE=[]\n",
    "    sum=0\n",
    "    for i in range(data.shape[0]):\n",
    "        ds=(data.iloc[i,0]-init_coor[0])**2+(data.iloc[i,1]-init_coor[1])**2\n",
    "        sum=sum+ds\n",
    "    SSE.append(sum)\n",
    "    print('Iteration 0  SSE =', SSE)\n",
    "    datall=data\n",
    "    datall_list=[]\n",
    "    datall_list.append([i for i in range(0,240)])\n",
    "    max_S_index=0\n",
    "    for numClusters in range(1,k):\n",
    "        SSE.pop(max_S_index)\n",
    "        datall_list.pop(max_S_index)\n",
    "        clusters = KMeans(2, max_iter=1,random_state=seed)\n",
    "        clusters.fit_predict(np.array(datall))\n",
    "        lable_pred=clusters.labels_\n",
    "        centroids=clusters.cluster_centers_\n",
    "        SSE1=0\n",
    "        SSE2=0\n",
    "        dataA=pd.DataFrame(columns=['x1','x2'])\n",
    "        dataB=pd.DataFrame(columns=['x1','x2'])\n",
    "        for j in range(len(lable_pred)):\n",
    "            if lable_pred[j]==False:\n",
    "                d=(datall.iloc[j,0]-centroids[0][0])**2+(datall.iloc[j,1]-centroids[0][1])**2\n",
    "                SSE1=SSE1+d\n",
    "                dataA=dataA.append(datall.iloc[j])\n",
    "            elif lable_pred[j]==True:\n",
    "                e=(datall.iloc[j,0]-centroids[1][0])**2+(datall.iloc[j,1]-centroids[1][1])**2\n",
    "                SSE2=SSE2+e\n",
    "                dataB=dataB.append(datall.iloc[j])\n",
    "        dataA_list= dataA.index.tolist() \n",
    "        dataB_list= dataB.index.tolist() \n",
    "        #print(dataB_list)\n",
    "        #print(dataA_list)\n",
    "        SSE.append(SSE1)\n",
    "        SSE.append(SSE2)\n",
    "        datall_list.append(dataA_list)\n",
    "        datall_list.append(dataB_list)\n",
    "        max_S_index=SSE.index(max(SSE))\n",
    "        data_tmp=pd.DataFrame(columns=['x1','x2'])\n",
    "        data_tmp=data_tmp.append(data.iloc[[i for i in datall_list[max_S_index]]])\n",
    "        datall=data_tmp\n",
    "        print('Iteration', numClusters, ' SSE =', SSE)\n",
    "    labels = fun2(datall_list)\n",
    "    data['labels'] = labels\n",
    "    return labels"
   ]
  },
  {
   "cell_type": "markdown",
   "metadata": {},
   "source": [
    "**(c)** Apply the bisecting k-means algorithm to generate 8 clusters from the data. Assign the clustering result as another column, named 'labels' of the dataframe. Draw a scatter plot of the data using the cluster labels as color of the data points in the scatter plot."
   ]
  },
  {
   "cell_type": "code",
   "execution_count": 178,
   "metadata": {
    "scrolled": false
   },
   "outputs": [
    {
     "name": "stdout",
     "output_type": "stream",
     "text": [
      "Iteration 0  SSE = [1365.6945979485834]\n",
      "Iteration 1  SSE = [206.10668865383343, 215.70502668666666]\n",
      "Iteration 2  SSE = [206.10668865383343, 43.43106116466667, 44.50749403133333]\n",
      "Iteration 3  SSE = [43.43106116466667, 44.50749403133333, 47.96253796372882, 47.72318725278689]\n",
      "Iteration 4  SSE = [43.43106116466667, 44.50749403133333, 47.72318725278689, 7.436857757666665, 6.254233716551726]\n",
      "Iteration 5  SSE = [43.43106116466667, 44.50749403133333, 7.436857757666665, 6.254233716551726, 7.481366151612905, 5.297583828333333]\n",
      "Iteration 6  SSE = [43.43106116466667, 7.436857757666665, 6.254233716551726, 7.481366151612905, 5.297583828333333, 4.395181067, 4.958932097666666]\n",
      "Iteration 7  SSE = [7.436857757666665, 6.254233716551726, 7.481366151612905, 5.297583828333333, 4.395181067, 4.958932097666666, 5.751973757241379, 5.042813212903225]\n"
     ]
    },
    {
     "data": {
      "image/png": "[encoded data removed]",
      "text/plain": [
       "<Figure size 432x288 with 2 Axes>"
      ]
     },
     "metadata": {
      "needs_background": "light"
     },
     "output_type": "display_data"
    }
   ],
   "source": [
    "data['labels'] = bisect(data, 8, 1)\n",
    "plt.scatter(data['x1'],data['x2'],c=data['labels'])\n",
    "plt.colorbar()\n",
    "plt.show()"
   ]
  },
  {
   "cell_type": "markdown",
   "metadata": {},
   "source": [
    "**5.** For this question, you will apply the distance-based anomaly detection algorithm to detect anomalies in a given dataset.  \n",
    "\n",
    "**(a)** Download the lymphography dataset (lympho.csv) from the D2L page. The original data was obtained from http://odds.cs.stonybrook.edu/lympho/.\n",
    "\n",
    "**(b)** Use pandas to load the file lympho.csv into a DataFrame object named *data*. Display the first 10 rows of the data frame. "
   ]
  },
  {
   "cell_type": "code",
   "execution_count": 182,
   "metadata": {},
   "outputs": [
    {
     "name": "stdout",
     "output_type": "stream",
     "text": [
      "    0    1    2    3    4    5    6    7    8    9    10   11   12   13   14  \\\n",
      "0  1.0  1.0  1.0  1.0  1.0  1.0  1.0  1.0  1.0  1.0  1.0  1.0  1.0  1.0  1.0   \n",
      "1  1.0  1.0  1.0  1.0  1.0  2.0  1.0  2.0  1.0  2.0  2.0  1.0  1.0  2.0  1.0   \n",
      "2  3.0  2.0  2.0  2.0  2.0  2.0  2.0  2.0  3.0  1.0  1.0  2.0  2.0  8.0  1.0   \n",
      "3  3.0  1.0  1.0  1.0  2.0  2.0  2.0  1.0  3.0  1.0  1.0  4.0  2.0  5.0  3.0   \n",
      "4  3.0  2.0  2.0  2.0  2.0  2.0  2.0  1.0  2.0  2.0  2.0  4.0  2.0  4.0  3.0   \n",
      "5  3.0  1.0  1.0  1.0  2.0  2.0  2.0  1.0  3.0  1.0  1.0  2.0  1.0  5.0  3.0   \n",
      "6  3.0  2.0  1.0  1.0  2.0  2.0  1.0  2.0  1.0  3.0  3.0  2.0  3.0  4.0  2.0   \n",
      "7  3.0  1.0  1.0  1.0  1.0  1.0  1.0  1.0  1.0  2.0  2.0  4.0  3.0  5.0  1.0   \n",
      "8  2.0  1.0  1.0  1.0  1.0  1.0  1.0  2.0  1.0  3.0  3.0  3.0  3.0  6.0  3.0   \n",
      "9  2.0  2.0  1.0  1.0  1.0  1.0  1.0  2.0  1.0  2.0  3.0  2.0  3.0  8.0  2.0   \n",
      "\n",
      "    15   16   17  18  \n",
      "0  1.0  1.0  1.0   1  \n",
      "1  1.0  1.0  2.0   1  \n",
      "2  2.0  2.0  4.0   1  \n",
      "3  1.0  2.0  4.0   1  \n",
      "4  2.0  2.0  7.0   1  \n",
      "5  1.0  1.0  7.0   1  \n",
      "6  2.0  2.0  2.0   0  \n",
      "7  2.0  2.0  1.0   0  \n",
      "8  1.0  2.0  4.0   0  \n",
      "9  1.0  1.0  1.0   0  \n"
     ]
    }
   ],
   "source": [
    "import pandas as pd\n",
    "\n",
    "data = pd.read_csv('lympho.csv', header=None)\n",
    "print(data[:10]) \n"
   ]
  },
  {
   "cell_type": "markdown",
   "metadata": {},
   "source": [
    "**(c)** Note that the last column in each row corresponds to the actual class (1: anomaly and 0: normal). Extract the last column into a pandas series object named *label* and count the number of normal and anomaly data points in the data. After extracting the label, drop the last column from *data*. DIsplay the size of the remaining dataframe."
   ]
  },
  {
   "cell_type": "code",
   "execution_count": 183,
   "metadata": {},
   "outputs": [
    {
     "name": "stdout",
     "output_type": "stream",
     "text": [
      "Size of data = (148, 19)\n",
      "Class distribution:\n",
      "0  142\n",
      "1  6\n",
      "Name:  18 , dtype:  int64\n"
     ]
    }
   ],
   "source": [
    "...\n",
    "\n",
    "print('Size of data =', data.shape)\n",
    "row, col = data.shape\n",
    "label = data.loc[:,col-1]\n",
    "\n",
    "print('Class distribution:')\n",
    "print('0 ', len(label[label == 0]))\n",
    "print('1 ', len(label[label == 1]))\n",
    "print('Name: ', label.name, ', dtype: ' ,label.dtype)\n"
   ]
  },
  {
   "cell_type": "markdown",
   "metadata": {},
   "source": [
    "**(d)** Apply the nearest-neighbor approach to detect outliers in the data. Specifically, for each data point, find its top-10 nearest neighbors (excluding the data point itself). Use the distance to the 10-th nearest neighbor as outlier score. Store the outlier score and predicted class of each data point in a dataframe object named *result*, with two columns named 'k-distance' and 'predicted', respectively. Display the result dataframe."
   ]
  },
  {
   "cell_type": "code",
   "execution_count": 184,
   "metadata": {},
   "outputs": [
    {
     "name": "stdout",
     "output_type": "stream",
     "text": [
      "     predict  distance\n",
      "0          0  4.123106\n",
      "1          0  3.605551\n",
      "2          1  4.582576\n",
      "3          1  4.358899\n",
      "4          0  3.872983\n",
      "..       ...       ...\n",
      "143        0  3.605551\n",
      "144        0  3.316625\n",
      "145        0  2.645751\n",
      "146        0  2.828427\n",
      "147        0  2.449490\n",
      "\n",
      "[148 rows x 2 columns]\n"
     ]
    }
   ],
   "source": [
    "\n",
    "# # Get the first n-1 column of data, which is the training sample train and the return type is dataframe\n",
    "train = data.loc[ : , 0 : col - 2]\n",
    "# # The value of K in k-nearest neighbor algorithm\n",
    "k = 10\n",
    "# # n_neighbors indicates the number of neighbors to be searched. The default value of algorithm is auto, and P is the parameter in Minkowski (P = 2 takes Euclidean distance)\n",
    "neighbor = NearestNeighbors(n_neighbors=k, algorithm='auto', p=2)\n",
    "# # neighbor.fit (x) takes x as the basic sample point to calculate the neighbor\n",
    "neighbor.fit(train, label)\n",
    "# # kneighbors([X,n_neighbors,return_distance]) Find K neighbors in each X\n",
    "# # By default, the row number array array of K adjacent points is returned\n",
    "# # return_distance=True, Returns the distance between fit (x) and the nearest K adjacent points of each point of the current x\n",
    "distanceArray, indexArray = neighbor.kneighbors(X=train, n_neighbors=k, return_distance=True)\n",
    "# # Distance of the k-th adjacent point\n",
    "distance = distanceArray[:, k-1]\n",
    "# # argsort(-array) Sort array from large to small, and return the sorted index\n",
    "indexSort = np.argsort(-distance)\n",
    "# # Number of exception Tags\n",
    "n = 5 \n",
    "# # Take the n-th distance as the threshold.\n",
    "threshold = distance[indexSort[n - 1]]\n",
    "# # Take the first n large distance sample points as the outliers\n",
    "# # (if the threshold value is greater than or equal to, the outliers will be labeled as 1)\n",
    "# # (if the threshold value is less than, the regular values will be labeled as 0)\n",
    "predict = []\n",
    "for i in range(len(distance)):\n",
    "    if distance[i] >= threshold:\n",
    "        predict.append(1)\n",
    "    else:\n",
    "        predict.append(0)\n",
    "result = pd.DataFrame({'predict': predict, 'distance': distance})\n",
    "print(result)\n"
   ]
  },
  {
   "cell_type": "markdown",
   "metadata": {},
   "source": [
    "**(e)** Show the confusion matrix by comparing the true class of the data points against the predicted class obtained in step (d). Display the accuracy of the method as well."
   ]
  },
  {
   "cell_type": "code",
   "execution_count": 185,
   "metadata": {},
   "outputs": [
    {
     "name": "stdout",
     "output_type": "stream",
     "text": [
      "accuracy_score:  0.9662162162162162\n",
      "confusion_matrix: \n",
      "[[140   2]\n",
      " [  3   3]]\n"
     ]
    }
   ],
   "source": [
    "from sklearn.metrics import accuracy_score\n",
    "from sklearn.metrics import confusion_matrix\n",
    "print('accuracy_score: ', accuracy_score(label, predict))\n",
    "print('confusion_matrix: ')\n",
    "print(confusion_matrix(label, predict))\n"
   ]
  },
  {
   "cell_type": "code",
   "execution_count": null,
   "metadata": {},
   "outputs": [],
   "source": []
  }
 ],
 "metadata": {
  "kernelspec": {
   "display_name": "Python 3",
   "language": "python",
   "name": "python3"
  },
  "language_info": {
   "codemirror_mode": {
    "name": "ipython",
    "version": 3
   },
   "file_extension": ".py",
   "mimetype": "text/x-python",
   "name": "python",
   "nbconvert_exporter": "python",
   "pygments_lexer": "ipython3",
   "version": "3.6.0"
  }
 },
 "nbformat": 4,
 "nbformat_minor": 2
}
